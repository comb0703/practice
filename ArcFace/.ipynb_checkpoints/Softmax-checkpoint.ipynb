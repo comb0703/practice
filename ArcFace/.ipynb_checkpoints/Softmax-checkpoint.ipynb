{
 "cells": [
  {
   "cell_type": "code",
   "execution_count": 1,
   "id": "ca1f8eee",
   "metadata": {},
   "outputs": [],
   "source": [
    "import torch\n",
    "import torch.nn as nn\n",
    "import torch.nn.functional as F\n",
    "import torch.optim as optim\n",
    "from torch.utils.data import DataLoader\n",
    "from torchvision import datasets, transforms\n",
    "import matplotlib.pyplot as plt\n",
    "import numpy as np\n",
    "import math\n",
    "import os"
   ]
  },
  {
   "cell_type": "code",
   "execution_count": 2,
   "id": "f59da560",
   "metadata": {},
   "outputs": [
    {
     "name": "stdout",
     "output_type": "stream",
     "text": [
      "cuda\n"
     ]
    }
   ],
   "source": [
    "if torch.cuda.is_available():\n",
    "    device = torch.device('cuda')\n",
    "\n",
    "print(device)"
   ]
  },
  {
   "cell_type": "code",
   "execution_count": 3,
   "id": "d8c97657",
   "metadata": {},
   "outputs": [
    {
     "name": "stderr",
     "output_type": "stream",
     "text": [
      "C:\\ProgramData\\Anaconda3\\lib\\site-packages\\torchvision\\datasets\\mnist.py:498: UserWarning: The given NumPy array is not writeable, and PyTorch does not support non-writeable tensors. This means you can write to the underlying (supposedly non-writeable) NumPy array using the tensor. You may want to copy the array to protect its data or make it writeable before converting it to a tensor. This type of warning will be suppressed for the rest of this program. (Triggered internally at  ..\\torch\\csrc\\utils\\tensor_numpy.cpp:180.)\n",
      "  return torch.from_numpy(parsed.astype(m[2], copy=False)).view(*s)\n"
     ]
    }
   ],
   "source": [
    "transform = transforms.Compose([\n",
    "    transforms.Resize((28,28)),\n",
    "    transforms.ToTensor()\n",
    "])\n",
    "\n",
    "train_dataset = datasets.MNIST('mnist',train=True, download=True, transform=transform)\n",
    "test_dataset = datasets.MNIST('mnist',train=False, transform=transform)\n",
    "train_loader = DataLoader(train_dataset, num_workers=2,shuffle=True,batch_size=100)\n",
    "test_loader = DataLoader(test_dataset, num_workers=2,shuffle=True,batch_size=100)"
   ]
  },
  {
   "cell_type": "code",
   "execution_count": 4,
   "id": "0761b2ba",
   "metadata": {},
   "outputs": [],
   "source": [
    "class SoftMaxNet(nn.Module):\n",
    "    def __init__(self):\n",
    "        super(SoftMaxNet, self).__init__()\n",
    "        self.conv_layer = nn.Sequential(\n",
    "            nn.Conv2d(1, 256, 5),\n",
    "            nn.ReLU(inplace=True),\n",
    "            nn.MaxPool2d(2),\n",
    "            nn.Conv2d(256, 256, 3),\n",
    "            nn.ReLU(inplace=True),\n",
    "            nn.MaxPool2d(2),\n",
    "            nn.Conv2d(256, 2, 5),\n",
    "            nn.AdaptiveAvgPool2d(1),\n",
    "        self.classifier = nn.Linear(2, 10)\n",
    "        \n",
    "    def forward(self, x):\n",
    "        x = self.conv_layer(x)\n",
    "        x = x.view(x.shape[0], 2)\n",
    "        x = self.classifier(x)\n",
    "        return x\n",
    "    \n",
    "    def get_feature(self, x):\n",
    "        with torch.no_grad():\n",
    "            x = self.conv_layer(x)\n",
    "            x = x.view(x.shape[0], 2)\n",
    "            x = F.normalize(x)\n",
    "            return x"
   ]
  },
  {
   "cell_type": "code",
   "execution_count": 5,
   "id": "13c940fa",
   "metadata": {},
   "outputs": [],
   "source": [
    "softmax_net = SoftMaxNet().to(device)\n",
    "learning_rate = 0.1\n",
    "criterion = nn.CrossEntropyLoss() # softmax 이미 포함\n",
    "optimizer = optim.SGD(softmax_net.parameters(), lr=learning_rate)\n",
    "\n"
   ]
  },
  {
   "cell_type": "code",
   "execution_count": null,
   "id": "9979faab",
   "metadata": {},
   "outputs": [],
   "source": [
    "train_losses = []\n",
    "train_accuracy = []\n",
    "\n",
    "\n"
   ]
  },
  {
   "cell_type": "code",
   "execution_count": 7,
   "id": "f06d8a7d",
   "metadata": {},
   "outputs": [],
   "source": [
    "def train(net,epoch):\n",
    "    print('\\n[ Train epoch: %d ]' % epoch)\n",
    "    net.train()\n",
    "    train_loss = 0\n",
    "    correct = 0\n",
    "    total = 0\n",
    "    for batch_idx, (images, labels) in enumerate(train_loader):\n",
    "        images = images.to(device)\n",
    "        labels = labels.to(device)\n",
    "        optimizer.zero_grad()\n",
    "\n",
    "        outputs = net(images)\n",
    "        loss = criterion(outputs, labels)\n",
    "        loss.backward()\n",
    "        optimizer.step()\n",
    "\n",
    "        train_loss += loss.item()\n",
    "        _, prediction = outputs.max(1)\n",
    "\n",
    "        total += labels.size(0)\n",
    "        correct += prediction.eq(labels).sum().item()\n",
    "\n",
    "        if batch_idx % 500 == 0:\n",
    "            print('\\nCurrent batch:', str(batch_idx))\n",
    "            print('Current train accuracy:', str(prediction.eq(labels).sum().item() / labels.size(0)))\n",
    "            print('Current train average loss:', loss.item() / 100)\n",
    "\n",
    "\n",
    "    train_losses.append(train_loss / total)\n",
    "    train_accuracy.append(100. * correct / total)\n",
    "    print('\\nTrain accuarcy:', 100. * correct / total)\n",
    "    print('Train average loss:', train_loss / total)\n",
    "\n",
    "\n",
    "def test(net,epoch):\n",
    "    print('\\n[ Test epoch: %d ]' % epoch)\n",
    "    net.eval()\n",
    "    loss = 0\n",
    "    correct = 0\n",
    "    total = 0\n",
    "\n",
    "    for batch_idx, (images, labels) in enumerate(test_loader):\n",
    "        images = images.to(device)\n",
    "        labels = labels.to(device)\n",
    "        total += labels.size(0)\n",
    "\n",
    "        outputs = net(images)\n",
    "        loss += criterion(outputs, labels).item()\n",
    "\n",
    "        _, prediction = outputs.max(1)\n",
    "        correct += prediction.eq(labels).sum().item()\n",
    "\n",
    "    print('\\nTest accuarcy:', 100. * correct / total)\n",
    "    print('Test average loss:', loss / total)"
   ]
  },
  {
   "cell_type": "code",
   "execution_count": 8,
   "id": "855c3f59",
   "metadata": {
    "scrolled": false
   },
   "outputs": [
    {
     "name": "stdout",
     "output_type": "stream",
     "text": [
      "\n",
      "[ Train epoch: 0 ]\n"
     ]
    },
    {
     "name": "stderr",
     "output_type": "stream",
     "text": [
      "C:\\ProgramData\\Anaconda3\\lib\\site-packages\\torch\\nn\\functional.py:718: UserWarning: Named tensors and all their associated APIs are an experimental feature and subject to change. Please do not use them for anything important until they are released as stable. (Triggered internally at  ..\\c10/core/TensorImpl.h:1156.)\n",
      "  return torch.max_pool2d(input, kernel_size, stride, padding, dilation, ceil_mode)\n"
     ]
    },
    {
     "name": "stdout",
     "output_type": "stream",
     "text": [
      "\n",
      "Current batch: 0\n",
      "Current train accuracy: 0.1\n",
      "Current train average loss: 0.02353095054626465\n",
      "\n",
      "Train accuarcy: 70.72\n",
      "Train average loss: 0.008663215911885102\n",
      "\n",
      "[ Train epoch: 1 ]\n",
      "\n",
      "Current batch: 0\n",
      "Current train accuracy: 0.89\n",
      "Current train average loss: 0.005118888020515442\n",
      "\n",
      "Train accuarcy: 89.13333333333334\n",
      "Train average loss: 0.004102620748927196\n",
      "\n",
      "[ Train epoch: 2 ]\n",
      "\n",
      "Current batch: 0\n",
      "Current train accuracy: 0.77\n",
      "Current train average loss: 0.008616487979888916\n",
      "\n",
      "Train accuarcy: 91.93666666666667\n",
      "Train average loss: 0.0030885672887166343\n",
      "\n",
      "[ Train epoch: 3 ]\n",
      "\n",
      "Current batch: 0\n",
      "Current train accuracy: 0.94\n",
      "Current train average loss: 0.003025268316268921\n",
      "\n",
      "Train accuarcy: 93.45\n",
      "Train average loss: 0.0025024678135911623\n",
      "\n",
      "[ Train epoch: 4 ]\n",
      "\n",
      "Current batch: 0\n",
      "Current train accuracy: 0.91\n",
      "Current train average loss: 0.0035676851868629454\n",
      "\n",
      "Train accuarcy: 94.45166666666667\n",
      "Train average loss: 0.002116655806079507\n",
      "\n",
      "[ Train epoch: 5 ]\n",
      "\n",
      "Current batch: 0\n",
      "Current train accuracy: 0.95\n",
      "Current train average loss: 0.0018663878738880157\n",
      "\n",
      "Train accuarcy: 95.13666666666667\n",
      "Train average loss: 0.0018508266790459554\n",
      "\n",
      "[ Train epoch: 6 ]\n",
      "\n",
      "Current batch: 0\n",
      "Current train accuracy: 0.93\n",
      "Current train average loss: 0.0018281833827495575\n",
      "\n",
      "Train accuarcy: 95.55666666666667\n",
      "Train average loss: 0.0016480176410327355\n",
      "\n",
      "[ Train epoch: 7 ]\n",
      "\n",
      "Current batch: 0\n",
      "Current train accuracy: 0.98\n",
      "Current train average loss: 0.0008617983013391495\n",
      "\n",
      "Train accuarcy: 96.05833333333334\n",
      "Train average loss: 0.0014758271065851052\n",
      "\n",
      "[ Train epoch: 8 ]\n",
      "\n",
      "Current batch: 0\n",
      "Current train accuracy: 0.96\n",
      "Current train average loss: 0.0019714656472206117\n",
      "\n",
      "Train accuarcy: 96.525\n",
      "Train average loss: 0.0013235958180079857\n",
      "\n",
      "[ Train epoch: 9 ]\n",
      "\n",
      "Current batch: 0\n",
      "Current train accuracy: 0.93\n",
      "Current train average loss: 0.0021477653086185455\n",
      "\n",
      "Train accuarcy: 96.79833333333333\n",
      "Train average loss: 0.0012137331418693065\n",
      "\n",
      "[ Train epoch: 10 ]\n",
      "\n",
      "Current batch: 0\n",
      "Current train accuracy: 0.99\n",
      "Current train average loss: 0.0007362639158964157\n",
      "\n",
      "Train accuarcy: 96.955\n",
      "Train average loss: 0.0011251372870368262\n",
      "\n",
      "[ Train epoch: 11 ]\n",
      "\n",
      "Current batch: 0\n",
      "Current train accuracy: 0.98\n",
      "Current train average loss: 0.0023247891664505004\n",
      "\n",
      "Train accuarcy: 97.23\n",
      "Train average loss: 0.0010270975175934534\n",
      "\n",
      "[ Train epoch: 12 ]\n",
      "\n",
      "Current batch: 0\n",
      "Current train accuracy: 0.99\n",
      "Current train average loss: 0.0004444864764809608\n",
      "\n",
      "Train accuarcy: 97.425\n",
      "Train average loss: 0.0009463880472506086\n",
      "\n",
      "[ Train epoch: 13 ]\n",
      "\n",
      "Current batch: 0\n",
      "Current train accuracy: 0.99\n",
      "Current train average loss: 0.00046425648033618925\n",
      "\n",
      "Train accuarcy: 97.67166666666667\n",
      "Train average loss: 0.0008475612174719573\n",
      "\n",
      "[ Train epoch: 14 ]\n",
      "\n",
      "Current batch: 0\n",
      "Current train accuracy: 0.98\n",
      "Current train average loss: 0.000535343736410141\n",
      "\n",
      "Train accuarcy: 97.90833333333333\n",
      "Train average loss: 0.0007714154772926122\n",
      "\n",
      "[ Train epoch: 15 ]\n",
      "\n",
      "Current batch: 0\n",
      "Current train accuracy: 0.98\n",
      "Current train average loss: 0.0007184714078903199\n",
      "\n",
      "Train accuarcy: 98.01333333333334\n",
      "Train average loss: 0.0007079487624267738\n",
      "\n",
      "[ Train epoch: 16 ]\n",
      "\n",
      "Current batch: 0\n",
      "Current train accuracy: 0.98\n",
      "Current train average loss: 0.000453374944627285\n",
      "\n",
      "Train accuarcy: 98.225\n",
      "Train average loss: 0.0006544164923174928\n",
      "\n",
      "[ Train epoch: 17 ]\n",
      "\n",
      "Current batch: 0\n",
      "Current train accuracy: 0.99\n",
      "Current train average loss: 0.0003469882905483246\n",
      "\n",
      "Train accuarcy: 98.37666666666667\n",
      "Train average loss: 0.0005879001021229973\n",
      "\n",
      "[ Train epoch: 18 ]\n",
      "\n",
      "Current batch: 0\n",
      "Current train accuracy: 0.99\n",
      "Current train average loss: 0.00047920357435941695\n",
      "\n",
      "Train accuarcy: 98.51333333333334\n",
      "Train average loss: 0.0005581746821291745\n",
      "\n",
      "[ Train epoch: 19 ]\n",
      "\n",
      "Current batch: 0\n",
      "Current train accuracy: 1.0\n",
      "Current train average loss: 0.0002811666950583458\n",
      "\n",
      "Train accuarcy: 98.79333333333334\n",
      "Train average loss: 0.00046957407112543784\n"
     ]
    }
   ],
   "source": [
    "for epoch in range(0,20) :\n",
    "    train(softmax_net,epoch)"
   ]
  },
  {
   "cell_type": "code",
   "execution_count": 10,
   "id": "96da9961",
   "metadata": {},
   "outputs": [],
   "source": [
    "colors = ['C0', 'C1', 'C2', 'C3', 'C4', 'C5', 'C6', 'C7', 'C8', 'C9']"
   ]
  },
  {
   "cell_type": "code",
   "execution_count": 11,
   "id": "f124de07",
   "metadata": {},
   "outputs": [],
   "source": [
    "def get_samples_vector(net, dataloader, num_samples=1000):\n",
    "    samples = []\n",
    "    labels = []\n",
    "    for x, y in dataloader:\n",
    "        sample = net.get_feature(x.cuda()) # normalized vector\n",
    "        samples.extend(sample.tolist())\n",
    "        labels.extend(y.tolist())\n",
    "        if len(samples) > num_samples:\n",
    "            break\n",
    "    samples = list(zip(samples, labels))\n",
    "    return samples, labels"
   ]
  },
  {
   "cell_type": "code",
   "execution_count": 12,
   "id": "68a51c48",
   "metadata": {},
   "outputs": [],
   "source": [
    "def show_2d_space(samples, labels, w):\n",
    "    plt.figure(figsize=(10,10))\n",
    "    for i in range(10):\n",
    "        samples_i = list(filter(lambda x : x[1] == i, samples))\n",
    "        samples_feat = np.ndarray.flatten(np.array([s[0] for s in samples_i]))\n",
    "        plt.plot(*samples_feat, marker=\"o\", color=colors[i], markersize=1)\n",
    "        plt.plot([w[i][0], 0], [w[i][1], 0], color=colors[i])\n",
    "    # plt.plot(*zip(w, [[0,0] for i in range(10)]))\n",
    "    plt.show()"
   ]
  },
  {
   "cell_type": "code",
   "execution_count": 19,
   "id": "6776db69",
   "metadata": {},
   "outputs": [
    {
     "data": {
      "text/plain": [
       "Linear(in_features=2, out_features=10, bias=True)"
      ]
     },
     "execution_count": 19,
     "metadata": {},
     "output_type": "execute_result"
    }
   ],
   "source": [
    "softmax_net.classifier"
   ]
  },
  {
   "cell_type": "code",
   "execution_count": 15,
   "id": "2f8fcbb7",
   "metadata": {},
   "outputs": [
    {
     "data": {
      "image/png": "[encoded data removed]",
      "text/plain": [
       "<Figure size 720x720 with 1 Axes>"
      ]
     },
     "metadata": {
      "needs_background": "light"
     },
     "output_type": "display_data"
    }
   ],
   "source": [
    "softmax_samples, softmax_labels = get_samples_vector(softmax_net, dataloader=train_loader, num_samples=1000)\n",
    "softmax_w = F.normalize(softmax_net.classifier.weight).tolist()\n",
    "show_2d_space(softmax_samples, softmax_labels, softmax_w)"
   ]
  },
  {
   "cell_type": "code",
   "execution_count": null,
   "id": "ba38e446",
   "metadata": {},
   "outputs": [],
   "source": [
    "plt.figure(figsize=(10,5))\n",
    "plt.title(\"losses\")\n",
    "plt.plot(train_losses, label=\"train loss\") \n",
    "plt.xlabel(\"iterations\") \n",
    "plt.ylabel(\"Loss\") \n",
    "plt.legend() \n",
    "plt.show()"
   ]
  }
 ],
 "metadata": {
  "kernelspec": {
   "display_name": "Python 3",
   "language": "python",
   "name": "python3"
  },
  "language_info": {
   "codemirror_mode": {
    "name": "ipython",
    "version": 3
   },
   "file_extension": ".py",
   "mimetype": "text/x-python",
   "name": "python",
   "nbconvert_exporter": "python",
   "pygments_lexer": "ipython3",
   "version": "3.8.8"
  }
 },
 "nbformat": 4,
 "nbformat_minor": 5
}
