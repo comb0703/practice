{
 "cells": [
  {
   "cell_type": "code",
   "execution_count": 4,
   "id": "61e7e59f",
   "metadata": {},
   "outputs": [],
   "source": [
    "import torch\n",
    "import torch.nn as nn"
   ]
  },
  {
   "cell_type": "code",
   "execution_count": 5,
   "id": "a79b7575",
   "metadata": {},
   "outputs": [],
   "source": [
    "centers = nn.Parameter(torch.randn(10,2))"
   ]
  },
  {
   "cell_type": "code",
   "execution_count": 6,
   "id": "63e3fce9",
   "metadata": {},
   "outputs": [
    {
     "data": {
      "text/plain": [
       "Parameter containing:\n",
       "tensor([[ 0.2570, -0.7191],\n",
       "        [ 2.4151, -0.7098],\n",
       "        [ 0.4448, -0.2066],\n",
       "        [-2.3802,  0.0403],\n",
       "        [ 1.3209,  1.9965],\n",
       "        [ 1.3893, -1.3802],\n",
       "        [ 0.2508, -0.8091],\n",
       "        [-0.4990, -0.1926],\n",
       "        [-0.5403,  0.4584],\n",
       "        [ 1.3463, -1.1519]], requires_grad=True)"
      ]
     },
     "execution_count": 6,
     "metadata": {},
     "output_type": "execute_result"
    }
   ],
   "source": [
    "centers"
   ]
  },
  {
   "cell_type": "code",
   "execution_count": 7,
   "id": "922626a8",
   "metadata": {},
   "outputs": [
    {
     "data": {
      "text/plain": [
       "torch.Size([10, 2])"
      ]
     },
     "execution_count": 7,
     "metadata": {},
     "output_type": "execute_result"
    }
   ],
   "source": [
    "centers.shape"
   ]
  },
  {
   "cell_type": "code",
   "execution_count": 8,
   "id": "81a676a5",
   "metadata": {},
   "outputs": [
    {
     "data": {
      "text/plain": [
       "tensor([ 0.2570, -0.7191], grad_fn=<SelectBackward>)"
      ]
     },
     "execution_count": 8,
     "metadata": {},
     "output_type": "execute_result"
    }
   ],
   "source": [
    "centers[0]"
   ]
  },
  {
   "cell_type": "code",
   "execution_count": 9,
   "id": "fe0bfc42",
   "metadata": {},
   "outputs": [],
   "source": [
    "x = nn.Parameter(torch.randn(4,2))"
   ]
  },
  {
   "cell_type": "code",
   "execution_count": 10,
   "id": "f6c39c13",
   "metadata": {},
   "outputs": [
    {
     "data": {
      "text/plain": [
       "Parameter containing:\n",
       "tensor([[-0.4783, -1.6346],\n",
       "        [ 0.4219,  0.1733],\n",
       "        [ 0.4491,  0.0172],\n",
       "        [ 0.8206,  0.3095]], requires_grad=True)"
      ]
     },
     "execution_count": 10,
     "metadata": {},
     "output_type": "execute_result"
    }
   ],
   "source": [
    "x"
   ]
  },
  {
   "cell_type": "code",
   "execution_count": 11,
   "id": "29358d69",
   "metadata": {},
   "outputs": [
    {
     "data": {
      "text/plain": [
       "tensor([[2.2877e-01, 2.6718e+00],\n",
       "        [1.7796e-01, 3.0017e-02],\n",
       "        [2.0168e-01, 2.9729e-04],\n",
       "        [6.7333e-01, 9.5767e-02]], grad_fn=<PowBackward0>)"
      ]
     },
     "execution_count": 11,
     "metadata": {},
     "output_type": "execute_result"
    }
   ],
   "source": [
    "torch.pow(x,2)"
   ]
  },
  {
   "cell_type": "code",
   "execution_count": 12,
   "id": "3b4beae5",
   "metadata": {},
   "outputs": [
    {
     "data": {
      "text/plain": [
       "tensor([[2.9006],\n",
       "        [0.2080],\n",
       "        [0.2020],\n",
       "        [0.7691]], grad_fn=<SumBackward1>)"
      ]
     },
     "execution_count": 12,
     "metadata": {},
     "output_type": "execute_result"
    }
   ],
   "source": [
    "torch.pow(x,2).sum(dim=1, keepdim=True)"
   ]
  },
  {
   "cell_type": "code",
   "execution_count": 13,
   "id": "539d8f2d",
   "metadata": {},
   "outputs": [
    {
     "data": {
      "text/plain": [
       "tensor([[2.9006, 2.9006],\n",
       "        [0.2080, 0.2080],\n",
       "        [0.2020, 0.2020],\n",
       "        [0.7691, 0.7691]], grad_fn=<ExpandBackward>)"
      ]
     },
     "execution_count": 13,
     "metadata": {},
     "output_type": "execute_result"
    }
   ],
   "source": [
    "torch.pow(x,2).sum(dim=1, keepdim=True).expand(4,2)"
   ]
  },
  {
   "cell_type": "code",
   "execution_count": null,
   "id": "b48cf825",
   "metadata": {},
   "outputs": [],
   "source": []
  }
 ],
 "metadata": {
  "kernelspec": {
   "display_name": "Python 3",
   "language": "python",
   "name": "python3"
  },
  "language_info": {
   "codemirror_mode": {
    "name": "ipython",
    "version": 3
   },
   "file_extension": ".py",
   "mimetype": "text/x-python",
   "name": "python",
   "nbconvert_exporter": "python",
   "pygments_lexer": "ipython3",
   "version": "3.8.8"
  }
 },
 "nbformat": 4,
 "nbformat_minor": 5
}
