{
 "cells": [
  {
   "cell_type": "code",
   "execution_count": 1,
   "metadata": {},
   "outputs": [],
   "source": [
    "import pycocotools.mask as mask\n",
    "import cv2\n",
    "\n",
    "def polygonFromMask(maskedArr): # https://github.com/hazirbas/coco-json-converter/blob/master/generate_coco_json.py\n",
    "\n",
    "    contours, _ = cv2.findContours(maskedArr, cv2.RETR_TREE, cv2.CHAIN_APPROX_SIMPLE)\n",
    "    segmentation = []\n",
    "\n",
    "    for contour in contours:\n",
    "        # Valid polygons have >= 6 coordinates (3 points)\n",
    "        if contour.size >= 6:\n",
    "            segmentation.append(contour.flatten().tolist())\n",
    "    if segmentation != []:\n",
    "        return segmentation[0]\n",
    "    else:\n",
    "        return []"
   ]
  },
  {
   "cell_type": "code",
   "execution_count": 2,
   "metadata": {},
   "outputs": [],
   "source": [
    "intput = {\"size\": [\n",
    "          2100,\n",
    "          2800\n",
    "        ],\n",
    "        \"counts\": \"VdoW36RQ2<D<D<D=C<I701N100O101N100O2O0O100O2O0O101N1O100O2O0O101N100O101N100O2O0O100O2O00001O0000001O00001O000O101O00001O0000001O00001O000O101O00001O0000001O00001O0O10001O00001ON2N2M3M3N2M3N1N6J9H7H8I8G8H9H7H9H7H8H9HQXgT2\"\n",
    "}\n"
   ]
  },
  {
   "cell_type": "code",
   "execution_count": 3,
   "metadata": {},
   "outputs": [
    {
     "data": {
      "text/plain": [
       "array([[0, 0, 0, ..., 0, 0, 0],\n",
       "       [0, 0, 0, ..., 0, 0, 0],\n",
       "       [0, 0, 0, ..., 0, 0, 0],\n",
       "       ...,\n",
       "       [0, 0, 0, ..., 0, 0, 0],\n",
       "       [0, 0, 0, ..., 0, 0, 0],\n",
       "       [0, 0, 0, ..., 0, 0, 0]], dtype=uint8)"
      ]
     },
     "execution_count": 3,
     "metadata": {},
     "output_type": "execute_result"
    }
   ],
   "source": [
    "dec = mask.decode(intput)\n",
    "dec"
   ]
  },
  {
   "cell_type": "code",
   "execution_count": 35,
   "metadata": {},
   "outputs": [],
   "source": [
    "import numpy as np\n",
    "import pandas as pd\n",
    "\n",
    "seg = polygonFromMask(dec)\n",
    "seg =np.array(list(seg))\n",
    "seg = seg.reshape(-1,2)\n",
    "\n",
    "# image read and draw\n",
    "img = cv2.imread('./image.png',cv2.IMREAD_UNCHANGED)\n",
    "cv2.polylines(img, [seg], True, (255, 0, 255), 2)\n",
    "\n",
    "# to_csv(coordinate)\n",
    "seg = pd.DataFrame(seg)\n",
    "seg.to_csv(\"coordi.csv\",mode='w')\n",
    "\n",
    "\n"
   ]
  },
  {
   "cell_type": "code",
   "execution_count": 39,
   "metadata": {},
   "outputs": [
    {
     "data": {
      "text/plain": [
       "True"
      ]
     },
     "execution_count": 39,
     "metadata": {},
     "output_type": "execute_result"
    }
   ],
   "source": [
    "# image write\n",
    "cv2.imwrite('image.jpg',img)\n",
    "\n"
   ]
  },
  {
   "cell_type": "code",
   "execution_count": null,
   "metadata": {},
   "outputs": [],
   "source": [
    "# image show\n",
    "cv2.imshow(\"image\", img)\n",
    "cv2.waitKey()\n",
    "cv2.destroyAllWindows()"
   ]
  }
 ],
 "metadata": {
  "interpreter": {
   "hash": "ca7ef2519b8ac6cec14ab24372ead5a1930915df7d3305ac5ef7a1b3d6ae8f41"
  },
  "kernelspec": {
   "display_name": "Python 3.10.0 64-bit ('pytorch': venv)",
   "name": "python3"
  },
  "language_info": {
   "codemirror_mode": {
    "name": "ipython",
    "version": 3
   },
   "file_extension": ".py",
   "mimetype": "text/x-python",
   "name": "python",
   "nbconvert_exporter": "python",
   "pygments_lexer": "ipython3",
   "version": "3.8.10"
  },
  "orig_nbformat": 4
 },
 "nbformat": 4,
 "nbformat_minor": 2
}
