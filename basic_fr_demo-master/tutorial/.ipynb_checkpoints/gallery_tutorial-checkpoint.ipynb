{
 "cells": [
  {
   "cell_type": "code",
   "execution_count": 4,
   "id": "5d506c20",
   "metadata": {},
   "outputs": [],
   "source": [
    "gal_root = './gal/'\n",
    "gal_file_name = 'Glint360k_r18'"
   ]
  },
  {
   "cell_type": "code",
   "execution_count": 6,
   "id": "b752c2fe",
   "metadata": {},
   "outputs": [],
   "source": [
    "import os\n",
    "\n",
    "file_list = os.listdir(gal_root)"
   ]
  },
  {
   "cell_type": "code",
   "execution_count": 7,
   "id": "cbd25677",
   "metadata": {},
   "outputs": [
    {
     "data": {
      "text/plain": [
       "['a.jpg.csv', 'a.jpg.npy']"
      ]
     },
     "execution_count": 7,
     "metadata": {},
     "output_type": "execute_result"
    }
   ],
   "source": [
    "file_list"
   ]
  },
  {
   "cell_type": "code",
   "execution_count": 8,
   "id": "d9460de3",
   "metadata": {},
   "outputs": [],
   "source": [
    "# 갤러리 파일명 가져오기\n",
    "gal_csv = [ file for file in file_list if file.endswith('.csv') ]\n",
    "gal_npy = [ file for file in file_list if file.endswith('.npy') ]\n",
    "file_list = [ file for file in file_list if file.endswith('.jpg') or file.endswith('.png') ]"
   ]
  },
  {
   "cell_type": "code",
   "execution_count": 9,
   "id": "99ac7c16",
   "metadata": {},
   "outputs": [
    {
     "data": {
      "text/plain": [
       "['a.jpg.csv']"
      ]
     },
     "execution_count": 9,
     "metadata": {},
     "output_type": "execute_result"
    }
   ],
   "source": [
    "gal_csv"
   ]
  },
  {
   "cell_type": "code",
   "execution_count": 12,
   "id": "d9f6e2f2",
   "metadata": {},
   "outputs": [
    {
     "data": {
      "text/plain": [
       "['a.jpg.npy']"
      ]
     },
     "execution_count": 12,
     "metadata": {},
     "output_type": "execute_result"
    }
   ],
   "source": [
    "gal_npy"
   ]
  },
  {
   "cell_type": "code",
   "execution_count": 16,
   "id": "5c2d6e45",
   "metadata": {},
   "outputs": [],
   "source": [
    "import pandas as pd\n",
    "import numpy as np\n",
    "import torch\n",
    "\n",
    "# 만들어진 갤러리가 있을 경우 가쟈오기만 하면 됨\n",
    "gal_list = pd.read_csv(gal_root+gal_csv[0], index_col=0)\n",
    "gal_embs = torch.from_numpy(np.load(gal_root+gal_npy[0]))"
   ]
  },
  {
   "cell_type": "code",
   "execution_count": 17,
   "id": "56073baf",
   "metadata": {},
   "outputs": [
    {
     "data": {
      "text/html": [
       "<div>\n",
       "<style scoped>\n",
       "    .dataframe tbody tr th:only-of-type {\n",
       "        vertical-align: middle;\n",
       "    }\n",
       "\n",
       "    .dataframe tbody tr th {\n",
       "        vertical-align: top;\n",
       "    }\n",
       "\n",
       "    .dataframe thead th {\n",
       "        text-align: right;\n",
       "    }\n",
       "</style>\n",
       "<table border=\"1\" class=\"dataframe\">\n",
       "  <thead>\n",
       "    <tr style=\"text-align: right;\">\n",
       "      <th></th>\n",
       "      <th>file</th>\n",
       "      <th>emb</th>\n",
       "    </tr>\n",
       "  </thead>\n",
       "  <tbody>\n",
       "    <tr>\n",
       "      <th>0</th>\n",
       "      <td>front.jpg</td>\n",
       "      <td>True</td>\n",
       "    </tr>\n",
       "    <tr>\n",
       "      <th>1</th>\n",
       "      <td>left.jpg</td>\n",
       "      <td>True</td>\n",
       "    </tr>\n",
       "    <tr>\n",
       "      <th>2</th>\n",
       "      <td>right.jpg</td>\n",
       "      <td>True</td>\n",
       "    </tr>\n",
       "  </tbody>\n",
       "</table>\n",
       "</div>"
      ],
      "text/plain": [
       "        file   emb\n",
       "0  front.jpg  True\n",
       "1   left.jpg  True\n",
       "2  right.jpg  True"
      ]
     },
     "execution_count": 17,
     "metadata": {},
     "output_type": "execute_result"
    }
   ],
   "source": [
    "gal_list"
   ]
  },
  {
   "cell_type": "code",
   "execution_count": 19,
   "id": "de43e189",
   "metadata": {},
   "outputs": [
    {
     "data": {
      "text/plain": [
       "torch.Size([1, 512])"
      ]
     },
     "execution_count": 19,
     "metadata": {},
     "output_type": "execute_result"
    }
   ],
   "source": [
    "gal_embs.shape"
   ]
  },
  {
   "cell_type": "code",
   "execution_count": 30,
   "id": "2a0e2754",
   "metadata": {},
   "outputs": [],
   "source": [
    "file_list = ['a.jpg','b.jpg','c.jpg']\n",
    "gal_list = pd.DataFrame(file_list, columns=['file'])\n",
    "gal_list['emb'] = False\n",
    "gal_embs = np.zeros((3, 512), dtype=np.float32)"
   ]
  },
  {
   "cell_type": "code",
   "execution_count": 31,
   "id": "37eb703c",
   "metadata": {},
   "outputs": [
    {
     "data": {
      "text/plain": [
       "(3, 512)"
      ]
     },
     "execution_count": 31,
     "metadata": {},
     "output_type": "execute_result"
    }
   ],
   "source": [
    "gal_embs.shape"
   ]
  },
  {
   "cell_type": "code",
   "execution_count": null,
   "id": "67202816",
   "metadata": {},
   "outputs": [],
   "source": []
  },
  {
   "cell_type": "code",
   "execution_count": null,
   "id": "d38347fd",
   "metadata": {},
   "outputs": [],
   "source": []
  },
  {
   "cell_type": "code",
   "execution_count": null,
   "id": "0a800899",
   "metadata": {},
   "outputs": [],
   "source": []
  },
  {
   "cell_type": "code",
   "execution_count": null,
   "id": "d56371f5",
   "metadata": {},
   "outputs": [],
   "source": []
  },
  {
   "cell_type": "code",
   "execution_count": null,
   "id": "69861bca",
   "metadata": {},
   "outputs": [],
   "source": []
  },
  {
   "cell_type": "code",
   "execution_count": null,
   "id": "34576d8a",
   "metadata": {},
   "outputs": [],
   "source": [
    "# 만들어진 갤러리가 없을 경우"
   ]
  },
  {
   "cell_type": "code",
   "execution_count": 33,
   "id": "4b7a01fe",
   "metadata": {},
   "outputs": [
    {
     "data": {
      "text/html": [
       "<div>\n",
       "<style scoped>\n",
       "    .dataframe tbody tr th:only-of-type {\n",
       "        vertical-align: middle;\n",
       "    }\n",
       "\n",
       "    .dataframe tbody tr th {\n",
       "        vertical-align: top;\n",
       "    }\n",
       "\n",
       "    .dataframe thead th {\n",
       "        text-align: right;\n",
       "    }\n",
       "</style>\n",
       "<table border=\"1\" class=\"dataframe\">\n",
       "  <thead>\n",
       "    <tr style=\"text-align: right;\">\n",
       "      <th></th>\n",
       "      <th>file</th>\n",
       "      <th>emb</th>\n",
       "    </tr>\n",
       "  </thead>\n",
       "  <tbody>\n",
       "    <tr>\n",
       "      <th>0</th>\n",
       "      <td>a.jpg</td>\n",
       "      <td>False</td>\n",
       "    </tr>\n",
       "    <tr>\n",
       "      <th>1</th>\n",
       "      <td>b.jpg</td>\n",
       "      <td>False</td>\n",
       "    </tr>\n",
       "    <tr>\n",
       "      <th>2</th>\n",
       "      <td>c.jpg</td>\n",
       "      <td>False</td>\n",
       "    </tr>\n",
       "  </tbody>\n",
       "</table>\n",
       "</div>"
      ],
      "text/plain": [
       "    file    emb\n",
       "0  a.jpg  False\n",
       "1  b.jpg  False\n",
       "2  c.jpg  False"
      ]
     },
     "execution_count": 33,
     "metadata": {},
     "output_type": "execute_result"
    }
   ],
   "source": [
    "gal_list"
   ]
  },
  {
   "cell_type": "code",
   "execution_count": 39,
   "id": "e9771224",
   "metadata": {},
   "outputs": [],
   "source": [
    "#  val = file,emb,name 으로 구성\n",
    "for idx, val in gal_list.iterrows():\n",
    "    face_file_name = val['file']\n",
    "    lm = 1\n",
    "    # image 읽어서 get_bbox()로 landmark 추출\n",
    "    if lm > 0:\n",
    "        face =1\n",
    "        gal_embs[idx] = 512 # 얼굴 이미지 arcface에 넣어 임베딩 추출\n",
    "        gal_list.loc[idx,['emb']] = True"
   ]
  },
  {
   "cell_type": "code",
   "execution_count": 41,
   "id": "c4afc72b",
   "metadata": {},
   "outputs": [
    {
     "data": {
      "text/plain": [
       "array([[512., 512., 512., ..., 512., 512., 512.],\n",
       "       [512., 512., 512., ..., 512., 512., 512.],\n",
       "       [512., 512., 512., ..., 512., 512., 512.]], dtype=float32)"
      ]
     },
     "execution_count": 41,
     "metadata": {},
     "output_type": "execute_result"
    }
   ],
   "source": [
    "gal_embs"
   ]
  },
  {
   "cell_type": "code",
   "execution_count": 45,
   "id": "b51b7abe",
   "metadata": {},
   "outputs": [
    {
     "data": {
      "text/html": [
       "<div>\n",
       "<style scoped>\n",
       "    .dataframe tbody tr th:only-of-type {\n",
       "        vertical-align: middle;\n",
       "    }\n",
       "\n",
       "    .dataframe tbody tr th {\n",
       "        vertical-align: top;\n",
       "    }\n",
       "\n",
       "    .dataframe thead th {\n",
       "        text-align: right;\n",
       "    }\n",
       "</style>\n",
       "<table border=\"1\" class=\"dataframe\">\n",
       "  <thead>\n",
       "    <tr style=\"text-align: right;\">\n",
       "      <th></th>\n",
       "      <th>file</th>\n",
       "      <th>emb</th>\n",
       "    </tr>\n",
       "  </thead>\n",
       "  <tbody>\n",
       "    <tr>\n",
       "      <th>0</th>\n",
       "      <td>a.jpg</td>\n",
       "      <td>True</td>\n",
       "    </tr>\n",
       "    <tr>\n",
       "      <th>1</th>\n",
       "      <td>b.jpg</td>\n",
       "      <td>True</td>\n",
       "    </tr>\n",
       "    <tr>\n",
       "      <th>2</th>\n",
       "      <td>c.jpg</td>\n",
       "      <td>True</td>\n",
       "    </tr>\n",
       "  </tbody>\n",
       "</table>\n",
       "</div>"
      ],
      "text/plain": [
       "    file   emb\n",
       "0  a.jpg  True\n",
       "1  b.jpg  True\n",
       "2  c.jpg  True"
      ]
     },
     "execution_count": 45,
     "metadata": {},
     "output_type": "execute_result"
    }
   ],
   "source": [
    "gal_list"
   ]
  },
  {
   "cell_type": "code",
   "execution_count": 48,
   "id": "00ddddab",
   "metadata": {},
   "outputs": [],
   "source": [
    "# 만든 dataframe을 csv로 저장\n",
    "gal_list.to_csv(gal_root+gal_file_name+'.csv')"
   ]
  },
  {
   "cell_type": "code",
   "execution_count": 49,
   "id": "2496f604",
   "metadata": {},
   "outputs": [],
   "source": [
    "np.save(gal_root+gal_file_name,gal_embs)"
   ]
  },
  {
   "cell_type": "code",
   "execution_count": 50,
   "id": "6482eff9",
   "metadata": {},
   "outputs": [],
   "source": [
    "gal_embs = torch.from_numpy(gal_embs)"
   ]
  },
  {
   "cell_type": "code",
   "execution_count": 51,
   "id": "b1aebf99",
   "metadata": {},
   "outputs": [
    {
     "data": {
      "text/plain": [
       "tensor([[512., 512., 512.,  ..., 512., 512., 512.],\n",
       "        [512., 512., 512.,  ..., 512., 512., 512.],\n",
       "        [512., 512., 512.,  ..., 512., 512., 512.]])"
      ]
     },
     "execution_count": 51,
     "metadata": {},
     "output_type": "execute_result"
    }
   ],
   "source": [
    "gal_embs"
   ]
  },
  {
   "cell_type": "code",
   "execution_count": null,
   "id": "cd188691",
   "metadata": {},
   "outputs": [],
   "source": []
  }
 ],
 "metadata": {
  "kernelspec": {
   "display_name": "Python 3",
   "language": "python",
   "name": "python3"
  },
  "language_info": {
   "codemirror_mode": {
    "name": "ipython",
    "version": 3
   },
   "file_extension": ".py",
   "mimetype": "text/x-python",
   "name": "python",
   "nbconvert_exporter": "python",
   "pygments_lexer": "ipython3",
   "version": "3.8.8"
  }
 },
 "nbformat": 4,
 "nbformat_minor": 5
}
