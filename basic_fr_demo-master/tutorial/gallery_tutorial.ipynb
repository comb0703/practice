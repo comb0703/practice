{
 "cells": [
  {
   "cell_type": "code",
   "execution_count": 4,
   "id": "fe651325",
   "metadata": {},
   "outputs": [],
   "source": [
    "gal_root = './gal/'\n",
    "gal_file_name = 'Glint360k_r18'"
   ]
  },
  {
   "cell_type": "code",
   "execution_count": 71,
   "id": "72af425b",
   "metadata": {},
   "outputs": [],
   "source": [
    "import os\n",
    "\n",
    "file_list = os.listdir(gal_root)"
   ]
  },
  {
   "cell_type": "code",
   "execution_count": 72,
   "id": "d454038b",
   "metadata": {},
   "outputs": [
    {
     "data": {
      "text/plain": [
       "['a.jpg.csv', 'a.jpg.npy', 'Glint360k_r18.csv', 'Glint360k_r18.npy']"
      ]
     },
     "execution_count": 72,
     "metadata": {},
     "output_type": "execute_result"
    }
   ],
   "source": [
    "file_list"
   ]
  },
  {
   "cell_type": "code",
   "execution_count": 73,
   "id": "209bcb3e",
   "metadata": {},
   "outputs": [],
   "source": [
    "# 갤러리 파일명 가져오기\n",
    "gal_csv = [ file for file in file_list if file.endswith('.csv') ]\n",
    "gal_npy = [ file for file in file_list if file.endswith('.npy') ]\n",
    "file_list = [ file for file in file_list if file.endswith('.jpg') or file.endswith('.png') ]"
   ]
  },
  {
   "cell_type": "code",
   "execution_count": 74,
   "id": "7b634512",
   "metadata": {},
   "outputs": [
    {
     "data": {
      "text/plain": [
       "['a.jpg.csv', 'Glint360k_r18.csv']"
      ]
     },
     "execution_count": 74,
     "metadata": {},
     "output_type": "execute_result"
    }
   ],
   "source": [
    "gal_csv"
   ]
  },
  {
   "cell_type": "code",
   "execution_count": 75,
   "id": "38b9e286",
   "metadata": {},
   "outputs": [
    {
     "data": {
      "text/plain": [
       "'a.jpg.npy'"
      ]
     },
     "execution_count": 75,
     "metadata": {},
     "output_type": "execute_result"
    }
   ],
   "source": [
    "gal_npy[0]"
   ]
  },
  {
   "cell_type": "code",
   "execution_count": 78,
   "id": "95b7e389",
   "metadata": {},
   "outputs": [],
   "source": [
    "import pandas as pd\n",
    "import numpy as np\n",
    "import torch\n",
    "\n",
    "# 만들어진 갤러리가 있을 경우 가쟈오기만 하면 됨\n",
    "gal_list = pd.read_csv(gal_root+gal_csv[0], index_col=0)\n",
    "gal_embs = torch.from_numpy(np.load(gal_root+gal_npy[0]))"
   ]
  },
  {
   "cell_type": "code",
   "execution_count": 77,
   "id": "8a970bdd",
   "metadata": {},
   "outputs": [
    {
     "data": {
      "text/html": [
       "<div>\n",
       "<style scoped>\n",
       "    .dataframe tbody tr th:only-of-type {\n",
       "        vertical-align: middle;\n",
       "    }\n",
       "\n",
       "    .dataframe tbody tr th {\n",
       "        vertical-align: top;\n",
       "    }\n",
       "\n",
       "    .dataframe thead th {\n",
       "        text-align: right;\n",
       "    }\n",
       "</style>\n",
       "<table border=\"1\" class=\"dataframe\">\n",
       "  <thead>\n",
       "    <tr style=\"text-align: right;\">\n",
       "      <th></th>\n",
       "      <th>file</th>\n",
       "      <th>emb</th>\n",
       "    </tr>\n",
       "  </thead>\n",
       "  <tbody>\n",
       "    <tr>\n",
       "      <th>0</th>\n",
       "      <td>a.jpg</td>\n",
       "      <td>True</td>\n",
       "    </tr>\n",
       "    <tr>\n",
       "      <th>1</th>\n",
       "      <td>b.jpg</td>\n",
       "      <td>True</td>\n",
       "    </tr>\n",
       "    <tr>\n",
       "      <th>2</th>\n",
       "      <td>c.jpg</td>\n",
       "      <td>True</td>\n",
       "    </tr>\n",
       "  </tbody>\n",
       "</table>\n",
       "</div>"
      ],
      "text/plain": [
       "    file   emb\n",
       "0  a.jpg  True\n",
       "1  b.jpg  True\n",
       "2  c.jpg  True"
      ]
     },
     "execution_count": 77,
     "metadata": {},
     "output_type": "execute_result"
    }
   ],
   "source": [
    "gal_list"
   ]
  },
  {
   "cell_type": "code",
   "execution_count": 79,
   "id": "deab5050",
   "metadata": {},
   "outputs": [
    {
     "data": {
      "text/plain": [
       "tensor([[-13549839.0000,   9209861.0000,   8439903.0000,  ...,\n",
       "           2049523.2500, -11587394.0000,  13635463.0000],\n",
       "        [-12564330.0000,   7605395.5000,  12455438.0000,  ...,\n",
       "          -3402834.2500,   2605661.7500,  11556930.0000],\n",
       "        [-11400668.0000,   5311844.0000,    791671.2500,  ...,\n",
       "         -11473002.0000, -11849430.0000,  13254015.0000]])"
      ]
     },
     "execution_count": 79,
     "metadata": {},
     "output_type": "execute_result"
    }
   ],
   "source": [
    "gal_embs"
   ]
  },
  {
   "cell_type": "code",
   "execution_count": 30,
   "id": "0311f149",
   "metadata": {},
   "outputs": [],
   "source": [
    "file_list = ['a.jpg','b.jpg','c.jpg']\n",
    "gal_list = pd.DataFrame(file_list, columns=['file'])\n",
    "gal_list['emb'] = False\n",
    "gal_embs = np.zeros((3, 512), dtype=np.float32)"
   ]
  },
  {
   "cell_type": "code",
   "execution_count": 64,
   "id": "f59f5034",
   "metadata": {},
   "outputs": [
    {
     "data": {
      "text/plain": [
       "torch.Size([3, 512])"
      ]
     },
     "execution_count": 64,
     "metadata": {},
     "output_type": "execute_result"
    }
   ],
   "source": [
    "gal_embs.shape"
   ]
  },
  {
   "cell_type": "code",
   "execution_count": null,
   "id": "0a6ec656",
   "metadata": {},
   "outputs": [],
   "source": []
  },
  {
   "cell_type": "code",
   "execution_count": null,
   "id": "f63a8006",
   "metadata": {},
   "outputs": [],
   "source": []
  },
  {
   "cell_type": "code",
   "execution_count": null,
   "id": "7caef970",
   "metadata": {},
   "outputs": [],
   "source": []
  },
  {
   "cell_type": "code",
   "execution_count": null,
   "id": "4fa12021",
   "metadata": {},
   "outputs": [],
   "source": []
  },
  {
   "cell_type": "code",
   "execution_count": null,
   "id": "c28a91c7",
   "metadata": {},
   "outputs": [],
   "source": []
  },
  {
   "cell_type": "code",
   "execution_count": null,
   "id": "1e159636",
   "metadata": {},
   "outputs": [],
   "source": [
    "# 만들어진 갤러리가 없을 경우"
   ]
  },
  {
   "cell_type": "code",
   "execution_count": 33,
   "id": "b9d0ce66",
   "metadata": {},
   "outputs": [
    {
     "data": {
      "text/html": [
       "<div>\n",
       "<style scoped>\n",
       "    .dataframe tbody tr th:only-of-type {\n",
       "        vertical-align: middle;\n",
       "    }\n",
       "\n",
       "    .dataframe tbody tr th {\n",
       "        vertical-align: top;\n",
       "    }\n",
       "\n",
       "    .dataframe thead th {\n",
       "        text-align: right;\n",
       "    }\n",
       "</style>\n",
       "<table border=\"1\" class=\"dataframe\">\n",
       "  <thead>\n",
       "    <tr style=\"text-align: right;\">\n",
       "      <th></th>\n",
       "      <th>file</th>\n",
       "      <th>emb</th>\n",
       "    </tr>\n",
       "  </thead>\n",
       "  <tbody>\n",
       "    <tr>\n",
       "      <th>0</th>\n",
       "      <td>a.jpg</td>\n",
       "      <td>False</td>\n",
       "    </tr>\n",
       "    <tr>\n",
       "      <th>1</th>\n",
       "      <td>b.jpg</td>\n",
       "      <td>False</td>\n",
       "    </tr>\n",
       "    <tr>\n",
       "      <th>2</th>\n",
       "      <td>c.jpg</td>\n",
       "      <td>False</td>\n",
       "    </tr>\n",
       "  </tbody>\n",
       "</table>\n",
       "</div>"
      ],
      "text/plain": [
       "    file    emb\n",
       "0  a.jpg  False\n",
       "1  b.jpg  False\n",
       "2  c.jpg  False"
      ]
     },
     "execution_count": 33,
     "metadata": {},
     "output_type": "execute_result"
    }
   ],
   "source": [
    "gal_list"
   ]
  },
  {
   "cell_type": "code",
   "execution_count": 39,
   "id": "66480af4",
   "metadata": {},
   "outputs": [],
   "source": [
    "#  val = file,emb,name 으로 구성\n",
    "for idx, val in gal_list.iterrows():\n",
    "    face_file_name = val['file']\n",
    "    lm = 1\n",
    "    # image 읽어서 get_bbox()로 landmark 추출\n",
    "    if lm > 0:\n",
    "        face =1\n",
    "        gal_embs[idx] = 512 # 얼굴 이미지 arcface에 넣어 임베딩 추출\n",
    "        gal_list.loc[idx,['emb']] = True"
   ]
  },
  {
   "cell_type": "code",
   "execution_count": 41,
   "id": "5828b405",
   "metadata": {},
   "outputs": [
    {
     "data": {
      "text/plain": [
       "array([[512., 512., 512., ..., 512., 512., 512.],\n",
       "       [512., 512., 512., ..., 512., 512., 512.],\n",
       "       [512., 512., 512., ..., 512., 512., 512.]], dtype=float32)"
      ]
     },
     "execution_count": 41,
     "metadata": {},
     "output_type": "execute_result"
    }
   ],
   "source": [
    "gal_embs"
   ]
  },
  {
   "cell_type": "code",
   "execution_count": 45,
   "id": "15e392c2",
   "metadata": {},
   "outputs": [
    {
     "data": {
      "text/html": [
       "<div>\n",
       "<style scoped>\n",
       "    .dataframe tbody tr th:only-of-type {\n",
       "        vertical-align: middle;\n",
       "    }\n",
       "\n",
       "    .dataframe tbody tr th {\n",
       "        vertical-align: top;\n",
       "    }\n",
       "\n",
       "    .dataframe thead th {\n",
       "        text-align: right;\n",
       "    }\n",
       "</style>\n",
       "<table border=\"1\" class=\"dataframe\">\n",
       "  <thead>\n",
       "    <tr style=\"text-align: right;\">\n",
       "      <th></th>\n",
       "      <th>file</th>\n",
       "      <th>emb</th>\n",
       "    </tr>\n",
       "  </thead>\n",
       "  <tbody>\n",
       "    <tr>\n",
       "      <th>0</th>\n",
       "      <td>a.jpg</td>\n",
       "      <td>True</td>\n",
       "    </tr>\n",
       "    <tr>\n",
       "      <th>1</th>\n",
       "      <td>b.jpg</td>\n",
       "      <td>True</td>\n",
       "    </tr>\n",
       "    <tr>\n",
       "      <th>2</th>\n",
       "      <td>c.jpg</td>\n",
       "      <td>True</td>\n",
       "    </tr>\n",
       "  </tbody>\n",
       "</table>\n",
       "</div>"
      ],
      "text/plain": [
       "    file   emb\n",
       "0  a.jpg  True\n",
       "1  b.jpg  True\n",
       "2  c.jpg  True"
      ]
     },
     "execution_count": 45,
     "metadata": {},
     "output_type": "execute_result"
    }
   ],
   "source": [
    "gal_list"
   ]
  },
  {
   "cell_type": "code",
   "execution_count": 48,
   "id": "e227451e",
   "metadata": {},
   "outputs": [],
   "source": [
    "# 만든 dataframe을 csv로 저장\n",
    "gal_list.to_csv(gal_root+gal_file_name+'.csv')"
   ]
  },
  {
   "cell_type": "code",
   "execution_count": 49,
   "id": "769a1f7b",
   "metadata": {},
   "outputs": [],
   "source": [
    "np.save(gal_root+gal_file_name,gal_embs)"
   ]
  },
  {
   "cell_type": "code",
   "execution_count": 50,
   "id": "61a7fc51",
   "metadata": {},
   "outputs": [],
   "source": [
    "gal_embs = torch.from_numpy(gal_embs)"
   ]
  },
  {
   "cell_type": "code",
   "execution_count": 51,
   "id": "0e3efb54",
   "metadata": {},
   "outputs": [
    {
     "data": {
      "text/plain": [
       "tensor([[512., 512., 512.,  ..., 512., 512., 512.],\n",
       "        [512., 512., 512.,  ..., 512., 512., 512.],\n",
       "        [512., 512., 512.,  ..., 512., 512., 512.]])"
      ]
     },
     "execution_count": 51,
     "metadata": {},
     "output_type": "execute_result"
    }
   ],
   "source": [
    "gal_embs"
   ]
  },
  {
   "cell_type": "code",
   "execution_count": 54,
   "id": "1772c65a",
   "metadata": {},
   "outputs": [
    {
     "data": {
      "text/plain": [
       "tensor([[262144., 262144., 262144.,  ..., 262144., 262144., 262144.],\n",
       "        [262144., 262144., 262144.,  ..., 262144., 262144., 262144.],\n",
       "        [262144., 262144., 262144.,  ..., 262144., 262144., 262144.]],\n",
       "       device='cuda:0')"
      ]
     },
     "execution_count": 54,
     "metadata": {},
     "output_type": "execute_result"
    }
   ],
   "source": [
    "torch.pow(gal_embs,2).to('cuda')"
   ]
  },
  {
   "cell_type": "code",
   "execution_count": null,
   "id": "c03cfd40",
   "metadata": {},
   "outputs": [],
   "source": []
  },
  {
   "cell_type": "code",
   "execution_count": null,
   "id": "2dea10d1",
   "metadata": {},
   "outputs": [],
   "source": []
  },
  {
   "cell_type": "code",
   "execution_count": null,
   "id": "716e9ea7",
   "metadata": {},
   "outputs": [],
   "source": []
  },
  {
   "cell_type": "code",
   "execution_count": null,
   "id": "86ab00f3",
   "metadata": {},
   "outputs": [],
   "source": []
  },
  {
   "cell_type": "code",
   "execution_count": null,
   "id": "e19c24e5",
   "metadata": {},
   "outputs": [],
   "source": [
    "# 두 개의 임베딩 값 비교하기"
   ]
  },
  {
   "cell_type": "code",
   "execution_count": 92,
   "id": "9fecbde4",
   "metadata": {},
   "outputs": [
    {
     "name": "stdout",
     "output_type": "stream",
     "text": [
      "torch.Size([512])\n",
      "torch.Size([3, 512])\n"
     ]
    }
   ],
   "source": [
    "x = gal_embs[0]\n",
    "y = gal_embs\n",
    "print(np.shape(x))\n",
    "print(np.shape(y))\n"
   ]
  },
  {
   "cell_type": "code",
   "execution_count": 88,
   "id": "b56bf67f",
   "metadata": {},
   "outputs": [
    {
     "name": "stdout",
     "output_type": "stream",
     "text": [
      "tensor([-13549839.0000,   9209861.0000,   8439903.0000,  -3847172.7500,\n",
      "          8682675.0000,  16387708.0000,   6258587.5000,  11647063.0000,\n",
      "          3314085.7500,  11491441.0000,   3494235.0000,  -3499212.2500,\n",
      "         -5681450.5000,   5057299.0000,   2195774.7500,  -6160006.5000,\n",
      "          4601739.5000,   6239390.5000,    776445.8125,   6355790.0000,\n",
      "          6661636.0000,  -7272352.5000,  10472722.0000,   5096489.0000,\n",
      "         -7689263.0000,  -8617092.0000,    873621.0625,  18194618.0000,\n",
      "         13601701.0000,  -9347517.0000,  18693898.0000,  13900374.0000,\n",
      "           504892.9375,  -4946401.0000,   2964957.2500,  14614720.0000,\n",
      "         -6289592.0000,  13609773.0000,  -3211356.2500,    173888.1250,\n",
      "         12066733.0000,   3441646.0000,  11239232.0000,  -7902631.0000,\n",
      "        -12744655.0000,    440999.7812,   4159716.5000,   2712346.2500,\n",
      "          1777747.0000,   1286079.0000, -32735964.0000,   3573805.0000,\n",
      "         12236132.0000,  -1311288.2500,   -214186.1719, -13193643.0000,\n",
      "        -10163217.0000,  -4592686.5000,   7433147.5000,   5025430.0000,\n",
      "         12925253.0000,   8874180.0000,   3274727.7500,   8850735.0000,\n",
      "          3035022.0000,  -1823049.0000,   4220327.0000,  -2391615.5000,\n",
      "         14566516.0000,  18234802.0000,  -4861968.0000,  -3467116.5000,\n",
      "         15304446.0000,   5756182.0000,  -2822128.7500,   9972655.0000,\n",
      "         -1273998.3750,  -5848603.0000,   5304462.0000,   9476879.0000,\n",
      "          7164385.5000,  -2556376.2500,   8675977.0000,  10796009.0000,\n",
      "         10389285.0000,  -7793999.0000,  15364096.0000,  -7109762.0000,\n",
      "         -6411354.5000,  -7550610.5000,  -1207337.8750,  14727735.0000,\n",
      "         13604860.0000,    736157.0000,   -871680.3125,  10254994.0000,\n",
      "         -2835358.2500,   -580040.5625,   1047611.0625,   9502908.0000,\n",
      "         -6244423.0000,   9706663.0000,  -7170244.0000,  15845570.0000,\n",
      "        -14970126.0000,  -1828374.5000,  10913547.0000,  -6076494.5000,\n",
      "          6437569.5000,  -5835708.5000,    398719.4688,  -3327412.2500,\n",
      "         -2925932.5000,    936193.2500,   5595368.5000,   2534150.5000,\n",
      "          3290719.5000,  -2294956.2500,  10672002.0000,   5481774.0000,\n",
      "         -5357187.5000,   3085087.0000,  -5112873.0000,   5322004.0000,\n",
      "         -8702246.0000,   1173150.5000,  -6039332.5000, -19220374.0000,\n",
      "         -3481529.7500,  21171704.0000, -11104746.0000,  -7061704.0000,\n",
      "         -1175372.2500,  -4895847.0000,  23046870.0000,  -2874098.5000,\n",
      "          2860291.0000,   9927013.0000,  -8305012.0000,  -2574226.0000,\n",
      "         -4024610.7500,  -2354074.0000,  15553873.0000,    319730.3750,\n",
      "          1959215.6250,  -1311055.2500,  -2027777.7500,  12282358.0000,\n",
      "        -10225788.0000,  -6135497.0000,  -1423504.2500,   2230660.7500,\n",
      "          4172776.2500,   6595885.0000,   5962972.5000,   7644739.0000,\n",
      "          -604913.1875, -21529018.0000,   8195033.0000,   6272600.0000,\n",
      "         14941708.0000, -10234171.0000,   2975554.2500,  -3364459.7500,\n",
      "         -4345588.0000,  -2894891.2500,  -7324801.5000, -10366419.0000,\n",
      "        -10298377.0000,   8887345.0000,    445675.6250,   1232559.5000,\n",
      "         -6647243.0000,   1885578.0000,  -6073448.5000,   1344340.0000,\n",
      "          8044816.0000,  -3424926.7500,  12464261.0000,  -1012961.5000,\n",
      "        -10677304.0000,   4925457.0000,   6094524.0000,  -4001596.7500,\n",
      "          7995066.5000,  -4081692.2500,  15745803.0000,  15820400.0000,\n",
      "         -5407078.0000,   7577761.0000,   3155742.0000,   -923770.9375,\n",
      "        -10896960.0000,    947696.6875,  -8111515.0000,   4420745.5000,\n",
      "         -5901760.0000,   2587480.5000,  26390250.0000,   7567860.5000,\n",
      "        -14245504.0000,  -3648574.5000,  -5833439.0000, -15313196.0000,\n",
      "          8448757.0000, -14187814.0000, -13815181.0000,   1420793.1250,\n",
      "        -15420945.0000,     81191.0938, -14868559.0000,   8667114.0000,\n",
      "          -547037.7500,  14576103.0000,    416799.8750,   -439582.0312,\n",
      "          2795800.7500,   4592968.0000, -18442498.0000,  -6636391.5000,\n",
      "          7335831.0000,   7431195.0000,  -7967829.5000,  -3046957.5000,\n",
      "        -19542288.0000,   4868054.5000, -12888882.0000,  -4405947.5000,\n",
      "           684052.4375,  -6190845.0000,  -7713361.0000,   1859363.6250,\n",
      "         -6921270.5000,  14370258.0000,   8525743.0000,   8913747.0000,\n",
      "           311275.1875,  12718200.0000,  13428792.0000,  -2354398.0000,\n",
      "          3728926.2500,   4957105.5000,   7796438.5000,  -3539594.0000,\n",
      "         -8016114.5000,    937245.0000,   4424307.5000,  10973865.0000,\n",
      "        -10202251.0000,  12599077.0000, -13791806.0000,   9651501.0000,\n",
      "        -11855616.0000,  -9542095.0000,   6351122.5000,  16689290.0000,\n",
      "          -249008.7344,  12058599.0000,   7815846.5000,   3987509.2500,\n",
      "        -12203681.0000,   2281181.0000,  -3483214.7500,   2421010.0000,\n",
      "           140184.6719, -13168557.0000,   3457731.7500,  -5170261.0000,\n",
      "         -2803336.2500,  -6228802.5000,   9126324.0000,    249557.8594,\n",
      "          4557088.0000, -14635175.0000,   6119122.5000,  -7361456.5000,\n",
      "            65346.0391,  -6173086.5000,  -3323858.2500,  -5800997.5000,\n",
      "          7221713.5000,  -5402345.5000,  14148162.0000,  -1408611.6250,\n",
      "          1328799.0000,   1274384.2500,  -5079831.0000, -19576042.0000,\n",
      "         -5400601.5000, -18746954.0000,   8162689.0000, -23381488.0000,\n",
      "         11828352.0000,  -8847161.0000,  -3980879.2500,   3326236.5000,\n",
      "          6803281.5000,   7290337.0000,   2214461.7500,   5597601.0000,\n",
      "         -6999177.5000,   2638560.7500,  -5131047.0000,   3566337.2500,\n",
      "          8087042.0000,  -4740238.0000,   6875464.5000,   5947894.5000,\n",
      "         -5185489.0000,  15309438.0000,  -3213225.2500,  -8417847.0000,\n",
      "          5104780.5000,   -367953.1250,  -4978830.0000,   1546291.8750,\n",
      "          1076379.0000,    578914.5625,   6566205.5000, -12207202.0000,\n",
      "        -18171768.0000,   9333543.0000,  -5723689.0000,  16373592.0000,\n",
      "         -1763892.2500, -10708856.0000,   3889499.0000,  -6565708.5000,\n",
      "          2553932.5000,  -5306816.0000,    651997.1875,  15516103.0000,\n",
      "         -3401063.7500,   3475327.0000,   5682476.0000,  10968579.0000,\n",
      "          4874921.0000,  19196026.0000,   3320622.7500,  -5834354.5000,\n",
      "          5256663.5000, -16931678.0000,   3942846.0000,  -7749768.0000,\n",
      "        -12486348.0000,   2306533.2500,  10464042.0000,  12075447.0000,\n",
      "         -1577920.7500,  -2250078.5000,   2087534.8750,  -7807845.5000,\n",
      "           966534.1250,   3148816.2500,  -5591253.5000,  -8629354.0000,\n",
      "            56685.9648,   5465496.0000,   6160088.0000,  -2053934.0000,\n",
      "        -16808232.0000,   2785986.5000,   2636040.2500,   8452101.0000,\n",
      "          1044704.9375,   2881585.5000,   2270781.5000,  -4059283.5000,\n",
      "          4148787.0000,  -4018087.2500,  10190439.0000,    710671.6250,\n",
      "         -7239028.0000,  -1252314.1250,   4154615.5000, -16645884.0000,\n",
      "          2310810.7500,   4015760.7500,   3899169.5000, -18770028.0000,\n",
      "          2448680.7500,  -2135081.5000,    270109.1250, -11992373.0000,\n",
      "        -15085868.0000,   3270037.5000,  11924452.0000,    769858.8750,\n",
      "         -2343616.5000,  -5021632.5000,   2686043.0000,  11069348.0000,\n",
      "          3139586.0000,   8079628.5000,  -2006813.1250,   1402060.6250,\n",
      "        -13388965.0000,  -7885096.5000,  10542015.0000,  -5128996.5000,\n",
      "          9377524.0000,   8976961.0000, -10599566.0000, -10861844.0000,\n",
      "         13175311.0000, -13802446.0000,   4652621.5000,  -5884820.5000,\n",
      "          5839692.5000,  -8229680.5000,   8010656.0000,  -2074410.0000,\n",
      "          3119338.2500,  -1044141.8125,  11503071.0000,  13746858.0000,\n",
      "          3239893.5000, -15975993.0000,  12522523.0000,  17841010.0000,\n",
      "          4081594.0000,   4958712.0000,   5392805.5000,  -5609959.0000,\n",
      "        -12483316.0000,  -1310371.8750,  11168083.0000,   3256936.7500,\n",
      "         10684141.0000,   9421007.0000,   4959754.0000,   5295771.5000,\n",
      "        -11285361.0000,   1831032.7500,   1209843.8750,  -6835081.5000,\n",
      "         -6425036.5000,  11996909.0000,  -2311964.0000,  18093660.0000,\n",
      "          5413574.5000,  13282071.0000,  -1703881.8750, -11089528.0000,\n",
      "          8747608.0000,  12033676.0000, -13476644.0000,  -9524540.0000,\n",
      "          1133080.8750,    319559.3750,  -4853705.5000,    570620.5625,\n",
      "          5770996.0000,  -2486934.0000,  14413649.0000,   7727975.0000,\n",
      "         -1018099.5625, -14816713.0000,   -591749.0000,   7923894.0000,\n",
      "          -566013.1250,   7354340.5000,   9855203.0000,  -5082277.5000,\n",
      "         -5493377.5000,   9217412.0000,   3623792.2500, -10763887.0000,\n",
      "          8762285.0000,  -8686167.0000,    851796.4375,   -106995.8359,\n",
      "          6525055.5000,   4138732.0000,  -2423636.2500,  -8237911.5000,\n",
      "          7346169.0000,    394925.7500,   5991022.0000,   9296863.0000,\n",
      "         -7702418.0000,   7748771.5000,    347775.2500,    200053.2344,\n",
      "         -4746442.0000,  -8309556.0000,  -1447398.3750,  -6067232.5000,\n",
      "         -3544581.5000,  -3428447.2500, -14872092.0000,   5666663.5000,\n",
      "          6490228.0000,   7294588.0000, -10045038.0000,   9205795.0000,\n",
      "          3436598.5000,   1349055.3750,    435201.5312,   1657973.8750,\n",
      "          7325014.5000,   5456154.5000,  12451276.0000,   7666879.5000,\n",
      "         -3989753.2500,  -6459363.0000,  -9583061.0000,   -218144.5156,\n",
      "         13532501.0000,   2049523.2500, -11587394.0000,  13635463.0000],\n",
      "       device='cuda:0')\n",
      "torch.Size([512])\n"
     ]
    },
    {
     "name": "stdout",
     "output_type": "stream",
     "text": [
      "tensor(3.7584e+16, device='cuda:0')\n",
      "torch.Size([])\n"
     ]
    }
   ],
   "source": [
    "x = torch.squeeze(x).to('cuda')\n",
    "print(x)\n",
    "print(np.shape(x))\n",
    "xx = torch.dot(x, x)\n",
    "print(xx)\n",
    "print(np.shape(xx))"
   ]
  },
  {
   "cell_type": "code",
   "execution_count": 93,
   "id": "0ccf3b4a",
   "metadata": {},
   "outputs": [
    {
     "data": {
      "text/plain": [
       "tensor([3.7584e+16, 4.9584e+16, 5.0827e+16], device='cuda:0')"
      ]
     },
     "execution_count": 93,
     "metadata": {},
     "output_type": "execute_result"
    }
   ],
   "source": [
    "y = y.to('cuda')\n",
    "yy = torch.pow(y, 2).to('cuda')\n",
    "yy = torch.sum(yy, dim=1)\n",
    "yy"
   ]
  },
  {
   "cell_type": "code",
   "execution_count": 97,
   "id": "6c8b3031",
   "metadata": {},
   "outputs": [
    {
     "ename": "RuntimeError",
     "evalue": "Expected all tensors to be on the same device, but found at least two devices, cuda:0 and cpu! (when checking arugment for argument vec in method wrapper_mv)",
     "output_type": "error",
     "traceback": [
      "\u001b[1;31m---------------------------------------------------------------------------\u001b[0m",
      "\u001b[1;31mRuntimeError\u001b[0m                              Traceback (most recent call last)",
      "\u001b[1;32m<ipython-input-97-301cfa578003>\u001b[0m in \u001b[0;36m<module>\u001b[1;34m\u001b[0m\n\u001b[0;32m      1\u001b[0m \u001b[0mx\u001b[0m\u001b[1;33m.\u001b[0m\u001b[0mcuda\u001b[0m\u001b[1;33m(\u001b[0m\u001b[1;33m)\u001b[0m\u001b[1;33m\u001b[0m\u001b[1;33m\u001b[0m\u001b[0m\n\u001b[0;32m      2\u001b[0m \u001b[0my\u001b[0m\u001b[1;33m.\u001b[0m\u001b[0mcuda\u001b[0m\u001b[1;33m(\u001b[0m\u001b[1;33m)\u001b[0m\u001b[1;33m\u001b[0m\u001b[1;33m\u001b[0m\u001b[0m\n\u001b[1;32m----> 3\u001b[1;33m \u001b[0mxy\u001b[0m \u001b[1;33m=\u001b[0m \u001b[0mtorch\u001b[0m\u001b[1;33m.\u001b[0m\u001b[0mmatmul\u001b[0m\u001b[1;33m(\u001b[0m\u001b[0my\u001b[0m\u001b[1;33m,\u001b[0m\u001b[0mx\u001b[0m\u001b[1;33m)\u001b[0m\u001b[1;33m\u001b[0m\u001b[1;33m\u001b[0m\u001b[0m\n\u001b[0m\u001b[0;32m      4\u001b[0m \u001b[0mnorm\u001b[0m \u001b[1;33m=\u001b[0m \u001b[0mtorch\u001b[0m\u001b[1;33m.\u001b[0m\u001b[0msqrt\u001b[0m\u001b[1;33m(\u001b[0m\u001b[0mxx\u001b[0m\u001b[1;33m*\u001b[0m\u001b[0myy\u001b[0m\u001b[1;33m)\u001b[0m \u001b[1;33m+\u001b[0m \u001b[1;36m0.00001\u001b[0m\u001b[1;33m\u001b[0m\u001b[1;33m\u001b[0m\u001b[0m\n",
      "\u001b[1;31mRuntimeError\u001b[0m: Expected all tensors to be on the same device, but found at least two devices, cuda:0 and cpu! (when checking arugment for argument vec in method wrapper_mv)"
     ]
    }
   ],
   "source": [
    "x.cuda()\n",
    "y.cuda()\n",
    "xy = torch.matmul(y,x)\n",
    "norm = torch.sqrt(xx*yy) + 0.00001"
   ]
  },
  {
   "cell_type": "code",
   "execution_count": 100,
   "id": "6eab739b",
   "metadata": {},
   "outputs": [
    {
     "data": {
      "text/plain": [
       "array([[0., 0.],\n",
       "       [0., 0.],\n",
       "       [0., 0.],\n",
       "       [0., 0.],\n",
       "       [0., 0.]])"
      ]
     },
     "execution_count": 100,
     "metadata": {},
     "output_type": "execute_result"
    }
   ],
   "source": [
    "np.zeros((5,2))"
   ]
  },
  {
   "cell_type": "code",
   "execution_count": 105,
   "id": "0e87e2b8",
   "metadata": {},
   "outputs": [
    {
     "data": {
      "text/plain": [
       "(2, 3)"
      ]
     },
     "execution_count": 105,
     "metadata": {},
     "output_type": "execute_result"
    }
   ],
   "source": [
    "from skimage import transform as trans\n",
    "tform = trans.SimilarityTransform()\n",
    "tform.params[0:2,:]"
   ]
  },
  {
   "cell_type": "code",
   "execution_count": null,
   "id": "7289872a",
   "metadata": {},
   "outputs": [],
   "source": []
  }
 ],
 "metadata": {
  "kernelspec": {
   "display_name": "Python 3",
   "language": "python",
   "name": "python3"
  },
  "language_info": {
   "codemirror_mode": {
    "name": "ipython",
    "version": 3
   },
   "file_extension": ".py",
   "mimetype": "text/x-python",
   "name": "python",
   "nbconvert_exporter": "python",
   "pygments_lexer": "ipython3",
   "version": "3.8.8"
  }
 },
 "nbformat": 4,
 "nbformat_minor": 5
}
